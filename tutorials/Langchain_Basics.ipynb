{
  "nbformat": 4,
  "nbformat_minor": 0,
  "metadata": {
    "colab": {
      "provenance": []
    },
    "kernelspec": {
      "name": "python3",
      "display_name": "Python 3"
    },
    "language_info": {
      "name": "python"
    }
  },
  "cells": [
    {
      "cell_type": "code",
      "execution_count": null,
      "metadata": {
        "id": "2g4PrCMEHvFG"
      },
      "outputs": [],
      "source": [
        "!pip install --upgrade --user google-cloud-aiplatform langchain langchain-google-vertexai docarray langchain_core langchain_chroma"
      ]
    },
    {
      "cell_type": "code",
      "source": [
        "from google.colab import auth\n",
        "\n",
        "auth.authenticate_user()"
      ],
      "metadata": {
        "id": "zwcuZUq5IES8"
      },
      "execution_count": 2,
      "outputs": []
    },
    {
      "cell_type": "code",
      "source": [
        "PROJECT_ID = \"kai-ai-f63c8\"\n",
        "LOCATION = \"us-central1\"\n",
        "\n",
        "import vertexai\n",
        "\n",
        "vertexai.init(project = PROJECT_ID, location = LOCATION)"
      ],
      "metadata": {
        "id": "mD0OwTrfINh1"
      },
      "execution_count": 3,
      "outputs": []
    },
    {
      "cell_type": "markdown",
      "source": [
        "# Without Langchain"
      ],
      "metadata": {
        "id": "xfoGTE8SIxJR"
      }
    },
    {
      "cell_type": "markdown",
      "source": [
        "### Model Invoking"
      ],
      "metadata": {
        "id": "K4q_vDfCKSKq"
      }
    },
    {
      "cell_type": "code",
      "source": [
        "from vertexai.generative_models import (\n",
        "    GenerationConfig,\n",
        "    GenerativeModel\n",
        ")\n",
        "\n",
        "model = GenerativeModel(\"gemini-1.0-pro\")\n",
        "\n",
        "response = model.generate_content(\"Why is the sky blue?\")\n",
        "\n",
        "print(type(response))\n",
        "print(f\"{response}\\n\\n\")\n",
        "\n",
        "def output_parser(response):\n",
        "  return response.candidates[0].content.parts[0].text\n",
        "\n",
        "output_parser(response)"
      ],
      "metadata": {
        "id": "9BMwXao2ItQf"
      },
      "execution_count": null,
      "outputs": []
    },
    {
      "cell_type": "markdown",
      "source": [
        "### Prompting Model"
      ],
      "metadata": {
        "id": "_ccYkIZMKU_S"
      }
    },
    {
      "cell_type": "code",
      "source": [
        "prompt = \"\"\"Create a nmbered list of 10 items. Each item in the list should be a trend in the tech industry.\"\"\"\n",
        "\n",
        "list_response = model.generate_content(prompt, stream=True)\n",
        "\n",
        "for stream in list_response:\n",
        "  print(stream.text, end=\"\")"
      ],
      "metadata": {
        "colab": {
          "base_uri": "https://localhost:8080/"
        },
        "id": "5QelcKzKKXK_",
        "outputId": "277176c0-b5c4-4911-e316-17b3cd582bd9"
      },
      "execution_count": null,
      "outputs": [
        {
          "output_type": "stream",
          "name": "stdout",
          "text": [
            "## Top 10 Tech Industry Trends:\n",
            "\n",
            "1. **Artificial Intelligence (AI) Everywhere:** AI is rapidly permeating all aspects of our lives, from personalized recommendations and chatbots to self-driving cars and medical diagnostics. This trend shows no signs of slowing down, with further advancements expected in areas like natural language processing and computer vision.\n",
            "2. **The Rise of the Metaverse:** The metaverse concept, encompassing immersive virtual worlds and augmented reality experiences, is gaining significant traction. Tech giants like Meta are investing heavily in this area, aiming to create a new frontier for social interaction, entertainment, and even work.\n",
            "3. **Focus on Cybersecurity:** As technology advances, so does the sophistication of cyber threats. This makes robust cybersecurity a top priority for businesses and individuals alike. We can expect to see further development in areas like data encryption, threat detection, and user awareness initiatives.\n",
            "4. **Quantum Computing Takes Shape:** While still in its early stages, quantum computing holds immense potential to revolutionize various fields, from drug discovery and materials science to financial modeling and cryptography. This trend is expected to accelerate in the coming years, with more research and development leading to practical applications.\n",
            "5. **The Explosion of Data:** The amount of data generated continues to grow exponentially, driven by the proliferation of connected devices, social media, and the Internet of Things (IoT). This necessitates more efficient data storage, processing, and analysis tools, leading to advancements in cloud computing and big data analytics.\n",
            "6. **Increased Focus on Sustainability:** The tech industry is becoming increasingly aware of its environmental impact and is actively exploring ways to become more sustainable. This includes initiatives like renewable energy usage, energy-efficient hardware, and responsible e-waste management.\n",
            "7. **The Democratization of Technology:** Technological advancements are becoming more accessible to a wider audience, thanks to open-source software, low-cost hardware, and online learning resources. This allows individuals and small businesses to leverage powerful tools that were previously exclusive to large corporations.\n",
            "8. **The Advance of Blockchain Technology:** Blockchain technology, initially associated with cryptocurrencies, is finding applications in various industries beyond finance. Its potential for secure and transparent data management is attracting interest in areas like supply chain management, healthcare records, and voting systems.\n",
            "9. **The Human-Machine Collaboration:** AI and automation are transforming the workplace, but humans remain essential for tasks requiring creativity, emotional intelligence, and critical thinking. The future lies in a collaborative approach where humans and machines work together to achieve optimal results.\n",
            "10. **The Growing Importance of Ethics:** As technology evolves, ethical considerations become increasingly important. This includes issues like data privacy, algorithmic bias, and the responsible development of AI. We can expect ongoing discussions and regulations to ensure that technology benefits society as a whole.\n",
            "\n",
            "These are just some of the prominent trends shaping the tech industry. Staying informed about these developments can help individuals and businesses navigate the rapidly changing technological landscape and adapt to its challenges and opportunities."
          ]
        }
      ]
    },
    {
      "cell_type": "markdown",
      "source": [
        "### Chat Prompts"
      ],
      "metadata": {
        "id": "wjhS45v3K8mH"
      }
    },
    {
      "cell_type": "code",
      "source": [
        "chat = model.start_chat(response_validation=False)\n",
        "\n",
        "prompt = \"\"\"\n",
        "  My name is Mikhail. You are my personal assistant. My favorite movies are Lord of The Rings and the Hobbit\n",
        "\n",
        "  Suggest another movie I might like\n",
        "\"\"\"\n",
        "\n",
        "responses = chat.send_message(prompt, stream=True)\n",
        "\n",
        "for response in responses:\n",
        "  print(response.text, end=\"\")"
      ],
      "metadata": {
        "colab": {
          "base_uri": "https://localhost:8080/"
        },
        "id": "634IlBEKK3Y_",
        "outputId": "b249c12b-8501-4090-f0f6-d96a8929443f"
      },
      "execution_count": null,
      "outputs": [
        {
          "output_type": "stream",
          "name": "stdout",
          "text": [
            "Hello Mikhail, \n",
            "\n",
            "It's a pleasure to meet you. As your personal assistant, I am here to help you with anything you need. \n",
            "\n",
            "Since you enjoy \"The Lord of the Rings\" and \"The Hobbit,\" I suggest you watch \"The Chronicles of Narnia.\" This fantasy film series is based on the popular books by C.S. Lewis and shares many similarities with your favorite movies. \n",
            "\n",
            "Both franchises feature epic adventures in fantastical worlds filled with mythical creatures, heroic characters, and epic battles between good and evil. If you enjoyed the immersive storytelling and world-building in \"The Lord of the Rings\" and \"The Hobbit,\" you'll likely appreciate the same qualities in \"The Chronicles of Narnia.\"\n",
            "\n",
            "Here are some additional reasons why you might enjoy \"The Chronicles of Narnia\":\n",
            "\n",
            "* **Rich mythology and lore:** Like Tolkien's Middle-earth, Narnia is a richly detailed world with its own unique history, mythology, and creatures. \n",
            "* **Engaging characters:** The Chronicles of Narnia features a diverse cast of characters, each with their own motivations and struggles. You'll find yourself rooting for the Pevensie siblings, Aslan the lion, and other memorable characters.\n",
            "* **Themes of good vs. evil:** At its core, \"The Chronicles of Narnia\" is a story about the battle between good and evil. This timeless theme resonates with audiences of all ages.\n",
            "* **Spectacular visuals:** The films boast stunning visuals that bring the world of Narnia to life. From the snow-covered landscapes to the mythical creatures, the visuals are sure to impress.\n",
            "* **Family-friendly entertainment:** The Chronicles of Narnia is a great choice for families to enjoy together. The films are exciting and engaging for viewers of all ages. \n",
            "\n",
            "If you decide to watch \"The Chronicles of Narnia,\" I recommend starting with the first film, \"The Lion, the Witch, and the Wardrobe.\" \n",
            "\n",
            "Let me know if there is anything else I can assist you with. \n"
          ]
        }
      ]
    },
    {
      "cell_type": "code",
      "source": [
        "prompt = \"Are my favorite based on a book series?\"\n",
        "\n",
        "responses = chat.send_message(prompt, stream=True)\n",
        "\n",
        "for response in responses:\n",
        "  print(response.text, end=\"\")"
      ],
      "metadata": {
        "colab": {
          "base_uri": "https://localhost:8080/"
        },
        "id": "X3uoXNMvLa5Q",
        "outputId": "fe248039-0952-4367-ed1f-44b3b0f262ff"
      },
      "execution_count": null,
      "outputs": [
        {
          "output_type": "stream",
          "name": "stdout",
          "text": [
            "Yes, both \"The Lord of the Rings\" and \"The Hobbit\" are based on book series written by J.R.R. Tolkien. \n",
            "\n",
            "\"The Lord of the Rings\" is a trilogy of epic high fantasy novels consisting of \"The Fellowship of the Ring,\" \"The Two Towers,\" and \"The Return of the King.\" The story follows a group of hobbits, elves, dwarves, and men on a quest to destroy the One Ring, an artifact created by the evil lord Sauron. \n",
            "\n",
            "\"The Hobbit,\" published in 1937, serves as a prequel to \"The Lord of the Rings\" and tells the story of Bilbo Baggins, a hobbit who embarks on an adventure to reclaim a treasure guarded by the dragon Smaug. \n",
            "\n",
            "Both book series have been immensely popular and have been translated into numerous languages. They have also been adapted into multiple films, television shows, video games, and other media. \n",
            "\n",
            "If you enjoyed the movies, I highly recommend reading the books. They provide a much deeper and richer experience, allowing you to fully immerse yourself in Tolkien's incredible world and characters."
          ]
        }
      ]
    },
    {
      "cell_type": "code",
      "source": [
        "print(chat.history)"
      ],
      "metadata": {
        "colab": {
          "base_uri": "https://localhost:8080/"
        },
        "id": "KViCFAgHLtQ4",
        "outputId": "17b1fcff-ef00-4892-fd36-424d25a96b5e"
      },
      "execution_count": null,
      "outputs": [
        {
          "output_type": "stream",
          "name": "stdout",
          "text": [
            "[role: \"user\"\n",
            "parts {\n",
            "  text: \"\\n  My name is Mikhail. You are my personal assistant. My favorite movies are Lord of The Rings and the Hobbit\\n\\n  Suggest another movie I might like\\n\"\n",
            "}\n",
            ", role: \"model\"\n",
            "parts {\n",
            "  text: \"Hello Mikhail, \\n\\nIt\\'s a pleasure to meet you. As your personal assistant, I am here to help you with anything you need. \\n\\nSince you enjoy \\\"The Lord of the Rings\\\" and \\\"The Hobbit,\\\" I suggest you watch \\\"The Chronicles of Narnia.\\\" This fantasy film series is based on the popular books by C.S. Lewis and shares many similarities with your favorite movies. \\n\\nBoth franchises feature epic adventures in fantastical worlds filled with mythical creatures, heroic characters, and epic battles between good and evil. If you enjoyed the immersive storytelling and world-building in \\\"The Lord of the Rings\\\" and \\\"The Hobbit,\\\" you\\'ll likely appreciate the same qualities in \\\"The Chronicles of Narnia.\\\"\\n\\nHere are some additional reasons why you might enjoy \\\"The Chronicles of Narnia\\\":\\n\\n* **Rich mythology and lore:** Like Tolkien\\'s Middle-earth, Narnia is a richly detailed world with its own unique history, mythology, and creatures. \\n* **Engaging characters:** The Chronicles of Narnia features a diverse cast of characters, each with their own motivations and struggles. You\\'ll find yourself rooting for the Pevensie siblings, Aslan the lion, and other memorable characters.\\n* **Themes of good vs. evil:** At its core, \\\"The Chronicles of Narnia\\\" is a story about the battle between good and evil. This timeless theme resonates with audiences of all ages.\\n* **Spectacular visuals:** The films boast stunning visuals that bring the world of Narnia to life. From the snow-covered landscapes to the mythical creatures, the visuals are sure to impress.\\n* **Family-friendly entertainment:** The Chronicles of Narnia is a great choice for families to enjoy together. The films are exciting and engaging for viewers of all ages. \\n\\nIf you decide to watch \\\"The Chronicles of Narnia,\\\" I recommend starting with the first film, \\\"The Lion, the Witch, and the Wardrobe.\\\" \\n\\nLet me know if there is anything else I can assist you with. \\n\"\n",
            "}\n",
            ", role: \"user\"\n",
            "parts {\n",
            "  text: \"Are my favorite based on a book series?\"\n",
            "}\n",
            ", role: \"model\"\n",
            "parts {\n",
            "  text: \"Yes, both \\\"The Lord of the Rings\\\" and \\\"The Hobbit\\\" are based on book series written by J.R.R. Tolkien. \\n\\n\\\"The Lord of the Rings\\\" is a trilogy of epic high fantasy novels consisting of \\\"The Fellowship of the Ring,\\\" \\\"The Two Towers,\\\" and \\\"The Return of the King.\\\" The story follows a group of hobbits, elves, dwarves, and men on a quest to destroy the One Ring, an artifact created by the evil lord Sauron. \\n\\n\\\"The Hobbit,\\\" published in 1937, serves as a prequel to \\\"The Lord of the Rings\\\" and tells the story of Bilbo Baggins, a hobbit who embarks on an adventure to reclaim a treasure guarded by the dragon Smaug. \\n\\nBoth book series have been immensely popular and have been translated into numerous languages. They have also been adapted into multiple films, television shows, video games, and other media. \\n\\nIf you enjoyed the movies, I highly recommend reading the books. They provide a much deeper and richer experience, allowing you to fully immerse yourself in Tolkien\\'s incredible world and characters.\"\n",
            "}\n",
            "]\n"
          ]
        }
      ]
    },
    {
      "cell_type": "markdown",
      "source": [
        "# With Langchain"
      ],
      "metadata": {
        "id": "4qPJ-WyVKG-4"
      }
    },
    {
      "cell_type": "markdown",
      "source": [
        "### Model Invoking"
      ],
      "metadata": {
        "id": "fUjo8UttRrQJ"
      }
    },
    {
      "cell_type": "code",
      "source": [
        "from langchain_google_vertexai import VertexAI as langchain_VertexAI\n",
        "\n",
        "google_llm = langchain_VertexAI(model_name=\"gemini-pro\", temperature=0.2, max_tokens=1000)\n",
        "# For a specific version: model = VertexAI(model_name=\"gemini-1.0-pro-002\")\n",
        "\n",
        "message = \"What are some of the pros and cons of python as a programming langauge?\"\n",
        "\n",
        "# Invoke model normally\n",
        "# google_llm.invoke(message)\n",
        "\n",
        "# You can also return safety attributes\n",
        "# result = google_llm.generate([message])\n",
        "\n",
        "# Support streaming responses\n",
        "for chunk in google_llm.stream(message):\n",
        "  print(chunk, end=\"\", flush=True)"
      ],
      "metadata": {
        "colab": {
          "base_uri": "https://localhost:8080/"
        },
        "id": "gFwzPsPKJqMe",
        "outputId": "4fcd9bc4-ac4a-4428-942e-8fed1edf82c0"
      },
      "execution_count": 12,
      "outputs": [
        {
          "output_type": "stream",
          "name": "stdout",
          "text": [
            "## Pros of Python:\n",
            "\n",
            "* **Easy to learn and read:** Python has a simple and intuitive syntax, making it a great choice for beginners and experienced programmers alike. Its code resembles natural language, making it easier to understand and maintain.\n",
            "* **Versatile:** Python can be used for a wide range of tasks, including web development, data analysis, machine learning, scripting, and more. This versatility makes it a valuable tool for many different types of projects.\n",
            "* **Large and active community:** Python has a large and active community of developers, which means there are plenty of resources available to help you learn and solve problems. You can easily find libraries, frameworks, and tutorials online.\n",
            "* **Open-source and free:** Python is an open-source language, which means it is free to use and distribute. This makes it a great choice for individuals and organizations who are looking for a cost-effective solution.\n",
            "* **Extensive libraries and frameworks:** Python has a vast ecosystem of libraries and frameworks that can be used to extend its functionality. This makes it easy to find the tools you need to complete your project.\n",
            "* **Cross-platform:** Python runs on a variety of platforms, including Windows, macOS, Linux, and Unix. This makes it a portable language that can be used on a variety of devices.\n",
            "\n",
            "## Cons of Python:\n",
            "\n",
            "* **Slower execution speed:** Python is an interpreted language, which means that it is generally slower than compiled languages like C++ or Java. However, this difference in speed is often not noticeable for many applications.\n",
            "* **Dynamic typing:** Python is a dynamically typed language, which means that variables do not have a specific type assigned to them. This can lead to errors if you are not careful, but it also makes Python more flexible and easier to use.\n",
            "* **Global Interpreter Lock (GIL):** Python has a Global Interpreter Lock (GIL), which means that only one thread can execute Python code at a time. This can limit the performance of Python applications that require multithreading.\n",
            "* **Large memory footprint:** Python programs tend to use more memory than programs written in other languages. This can be a concern for applications that have limited memory resources.\n",
            "\n",
            "Overall, Python is a powerful and versatile language that is a great choice for a wide range of projects. Its ease of use, large community, and extensive libraries make it a popular choice for both beginners and experienced programmers. However, it is important to be aware of its limitations, such as its slower execution speed and GIL, before choosing it for your project."
          ]
        }
      ]
    },
    {
      "cell_type": "code",
      "source": [
        "google_llm_code = langchain_VertexAI(model_name = \"code-bison\", max_tokens = 1000, temperature=0.3)\n",
        "\n",
        "question = \"Write a python function that checks if a string is a valid email address\"\n",
        "\n",
        "print(google_llm_code.invoke(question))"
      ],
      "metadata": {
        "colab": {
          "base_uri": "https://localhost:8080/"
        },
        "id": "EkU_YJ_OMBD3",
        "outputId": "4f87ff89-941b-4adf-822e-066558cb93c0"
      },
      "execution_count": 9,
      "outputs": [
        {
          "output_type": "stream",
          "name": "stdout",
          "text": [
            "```python\n",
            "import re\n",
            "\n",
            "def is_valid_email(email):\n",
            "  \"\"\"\n",
            "  Checks if a string is a valid email address.\n",
            "\n",
            "  Args:\n",
            "    email: The string to check.\n",
            "\n",
            "  Returns:\n",
            "    True if the string is a valid email address, False otherwise.\n",
            "  \"\"\"\n",
            "\n",
            "  # Compile the regular expression.\n",
            "  regex = re.compile(r\"[^@]+@[^@]+\\.[^@]+\")\n",
            "\n",
            "  # Check if the string matches the regular expression.\n",
            "  return regex.match(email) is not None\n",
            "```\n"
          ]
        }
      ]
    },
    {
      "cell_type": "markdown",
      "source": [
        "### Vertex Model Garden\n",
        "We can use any model available with an endpoint from vertex ai. If you have an endpoint deployed with google, you can call that model such as Llama 3, Anthropic Claude, etc."
      ],
      "metadata": {
        "id": "6Q6soS65MvFw"
      }
    },
    {
      "cell_type": "markdown",
      "source": [
        "### Prompt Templates"
      ],
      "metadata": {
        "id": "545IHbjEM_jw"
      }
    },
    {
      "cell_type": "code",
      "source": [
        "from langchain_core.prompts import PromptTemplate\n",
        "\n",
        "prompt = PromptTemplate.from_template(\"What is a good name for a company that makes {product}?\")\n",
        "prompt.format(product=\"colorful socks\")\n",
        "\n",
        "print(prompt.format(product=\"colorful socks\"))\n",
        "print(prompt.format(product=\"red shoes\"))\n",
        "print(prompt.format(product=\"books\"))\n",
        "\n",
        "chain = prompt | google_llm\n",
        "chain.invoke({\"product\": \"Headphones\"})"
      ],
      "metadata": {
        "colab": {
          "base_uri": "https://localhost:8080/",
          "height": 191
        },
        "id": "DIZ_GRLLMoIv",
        "outputId": "ecaa1fc9-272a-482d-dd9b-ad0bb3cb64d0"
      },
      "execution_count": 16,
      "outputs": [
        {
          "output_type": "stream",
          "name": "stdout",
          "text": [
            "What is a good name for a company that makes colorful socks?\n",
            "What is a good name for a company that makes red shoes?\n",
            "What is a good name for a company that makes books?\n"
          ]
        },
        {
          "output_type": "execute_result",
          "data": {
            "text/plain": [
              "'## Catchy Names for a Headphone Company:\\n\\n**Descriptive:**\\n\\n* **Harmonic Haven**\\n* **Sound Sanctuary**\\n* **Audio Oasis**\\n* **Clarity Acoustics**\\n* **Immersive Soundscapes**\\n\\n**Creative:**\\n\\n* **Earphoria**\\n* **Headspace**\\n* **Mindwave**\\n* **Soundscape**\\n* **Sonic Bloom**\\n\\n**Unique:**\\n\\n* **Audify**\\n* **Hearo**\\n* **Musephonic**\\n* **Rhythmix**\\n* **Sonify**\\n\\n**Modern:**\\n\\n* **Amplify**\\n* **Beatbox**\\n* **Decibel**\\n* **Frequency**\\n* **Headset**\\n\\n**Playful:**\\n\\n* **Earworm**\\n* **Headbanger**\\n* **Melody Maker**\\n* **Rhythm & Rhyme**\\n* **Soundbyte**\\n\\n**Bonus:**\\n\\n* **[Your Name] Audio**\\n* **[Location] Sounds**\\n* **[Unique Adjective] Headphones**\\n\\n**Tips for Choosing a Name:**\\n\\n* **Keep it short and memorable.**\\n* **Make it easy to pronounce and spell.**\\n* **Consider the target audience.**\\n* **Choose a name that reflects the brand identity.**\\n* **Check for availability of the domain name and trademark.**\\n\\n**I hope this helps you find the perfect name for your headphone company!**'"
            ],
            "application/vnd.google.colaboratory.intrinsic+json": {
              "type": "string"
            }
          },
          "metadata": {},
          "execution_count": 16
        }
      ]
    },
    {
      "cell_type": "code",
      "source": [
        "from langchain_core.prompts.chat import ChatPromptTemplate\n",
        "\n",
        "template = \"You are a helpful assistant that translates {input_language} to {output_language}.\"\n",
        "human_template = \"{text}\"\n",
        "\n",
        "chat_prompt = ChatPromptTemplate.from_messages([\n",
        "    (\"system\", template),\n",
        "    (\"human\", human_template)\n",
        "])\n",
        "\n",
        "chain = chat_prompt | google_llm\n",
        "chain.invoke({\"text\": \"Hello! My name is Mikhail\", \"input_language\": \"English\", \"output_language\": \"Spanish\"})"
      ],
      "metadata": {
        "colab": {
          "base_uri": "https://localhost:8080/",
          "height": 35
        },
        "id": "RKIFuOLLNgcy",
        "outputId": "81bb2418-675d-47c4-acb5-2511bc3317a4"
      },
      "execution_count": null,
      "outputs": [
        {
          "output_type": "execute_result",
          "data": {
            "text/plain": [
              "' ¡Hola! Mi nombre es Mikhail'"
            ],
            "application/vnd.google.colaboratory.intrinsic+json": {
              "type": "string"
            }
          },
          "metadata": {},
          "execution_count": 29
        }
      ]
    },
    {
      "cell_type": "markdown",
      "source": [
        "### Output Parsers\n",
        "Use output parsers to have more fine-grained control over your model!"
      ],
      "metadata": {
        "id": "SEZ2mwtoOk3I"
      }
    },
    {
      "cell_type": "markdown",
      "source": [
        "#### JSON Output Parsing"
      ],
      "metadata": {
        "id": "DudioaWLTd_I"
      }
    },
    {
      "cell_type": "code",
      "source": [
        "question_topic = \"Create a multiple choice question on large language models\"\n",
        "\n",
        "prompt = PromptTemplate(\n",
        "    template=\"Answer the user query. Respond in JSON {topic}\\n\",\n",
        "    input_variables=[\"topic\"]\n",
        ")\n",
        "\n",
        "chain = prompt | google_llm\n",
        "chain.invoke({\"topic\": question_topic})"
      ],
      "metadata": {
        "id": "0IxDIX3wQbDp",
        "colab": {
          "base_uri": "https://localhost:8080/",
          "height": 87
        },
        "outputId": "3a5180fb-ab4e-46e1-ee24-86c2561738db"
      },
      "execution_count": 19,
      "outputs": [
        {
          "output_type": "execute_result",
          "data": {
            "text/plain": [
              "'```json\\n{\\n  \"question\": \"Which of the following is NOT a characteristic of large language models (LLMs)?\",\\n  \"choices\": [\\n    \"They can generate human-quality text.\",\\n    \"They are trained on massive amounts of data.\",\\n    \"They can understand and respond to complex questions.\",\\n    \"They are capable of independent thought and creativity.\"\\n  ],\\n  \"correctAnswer\": \"They are capable of independent thought and creativity.\"\\n}\\n```'"
            ],
            "application/vnd.google.colaboratory.intrinsic+json": {
              "type": "string"
            }
          },
          "metadata": {},
          "execution_count": 19
        }
      ]
    },
    {
      "cell_type": "code",
      "source": [
        "from langchain_core.output_parsers import JsonOutputParser\n",
        "from langchain_core.prompts import PromptTemplate\n",
        "from langchain_core.pydantic_v1 import BaseModel, Field\n",
        "from typing import List\n",
        "\n",
        "class Quiz_Question(BaseModel):\n",
        "  question: str = Field(description=\"question for the quiz\")\n",
        "  choices: List[str] = Field(description=\"A list of string choices to the question\")\n",
        "  answer: str = Field(description=\"answer to the question\")\n",
        "\n",
        "quiz_query = \"Make a multiple choice quiz question on Large Language Models\"\n",
        "\n",
        "parser = JsonOutputParser(pydantic_object = Quiz_Question)\n",
        "\n",
        "prompt = PromptTemplate(\n",
        "    template=\"Answer the user query. \\n{format_instructions}\\n{query}\\n\",\n",
        "    input_variables=[\"query\"],\n",
        "    partial_variables={\"format_instructions\": parser.get_format_instructions()}\n",
        ")\n",
        "\n",
        "chain = prompt | google_llm | parser\n",
        "\n",
        "chain.invoke({\"query\": quiz_query})"
      ],
      "metadata": {
        "colab": {
          "base_uri": "https://localhost:8080/"
        },
        "id": "OJSbZJTiOIKp",
        "outputId": "0395af10-14e2-40ce-c91c-979ac84954ae"
      },
      "execution_count": null,
      "outputs": [
        {
          "output_type": "execute_result",
          "data": {
            "text/plain": [
              "{'question': 'What is a Large Language Model (LLM)?',\n",
              " 'choices': ['A type of artificial intelligence that can understand and generate human language.',\n",
              "  'A computer program that can translate languages.',\n",
              "  'A search engine that can answer questions in natural language.',\n",
              "  'A virtual assistant that can help with tasks like scheduling appointments and setting reminders.'],\n",
              " 'answer': 'A type of artificial intelligence that can understand and generate human language.'}"
            ]
          },
          "metadata": {},
          "execution_count": 33
        }
      ]
    },
    {
      "cell_type": "code",
      "source": [],
      "metadata": {
        "id": "K-4MLY15P6I2"
      },
      "execution_count": null,
      "outputs": []
    },
    {
      "cell_type": "markdown",
      "source": [
        "### Chaining\n",
        "\n",
        "Shoutout to James Briggs for an amazing in-depth explanation of the Langchain Runnable and LCEL\n",
        "\n",
        "https://www.youtube.com/watch?v=O0dUOtOIrfs"
      ],
      "metadata": {
        "id": "Obekz7RiUvdI"
      }
    },
    {
      "cell_type": "code",
      "source": [
        "def add_five(x: int):\n",
        "  return x + 5\n",
        "\n",
        "def multiply_by_two(x: int):\n",
        "  return x * 2\n",
        "\n",
        "multiply_by_two(add_five(3))"
      ],
      "metadata": {
        "colab": {
          "base_uri": "https://localhost:8080/"
        },
        "id": "PZkn3JPoUz-6",
        "outputId": "de2dd639-1098-4bef-9a69-6f32020f377b"
      },
      "execution_count": 50,
      "outputs": [
        {
          "output_type": "execute_result",
          "data": {
            "text/plain": [
              "16"
            ]
          },
          "metadata": {},
          "execution_count": 50
        }
      ]
    },
    {
      "cell_type": "code",
      "source": [
        "# func | other | other2 | other3\n",
        "class CustomRunnable():\n",
        "  def __init__(self, func):\n",
        "    self.func = func\n",
        "\n",
        "  def __or__(self, other):\n",
        "    def chained_func(*args, **kwargs):\n",
        "      # result of previous function is input for this function\n",
        "      return other(self.func(*args, **kwargs))\n",
        "    return CustomRunnable(chained_func)\n",
        "\n",
        "  def __call__(self, *args, **kwargs):\n",
        "    return self.func(*args, **kwargs)"
      ],
      "metadata": {
        "id": "2W5K4DqwVFgR"
      },
      "execution_count": 51,
      "outputs": []
    },
    {
      "cell_type": "code",
      "source": [
        "# Wrap functions with CustomRunnable\n",
        "add_five = CustomRunnable(add_five)\n",
        "multiply_by_two = CustomRunnable(multiply_by_two)\n",
        "\n",
        "# Run using object approach\n",
        "chain = add_five.__or__(multiply_by_two)\n",
        "chain(3)"
      ],
      "metadata": {
        "colab": {
          "base_uri": "https://localhost:8080/"
        },
        "id": "1gtq9_v_WTFg",
        "outputId": "bf3e56cd-940d-4c66-ea69-1c1f170a17b0"
      },
      "execution_count": 52,
      "outputs": [
        {
          "output_type": "execute_result",
          "data": {
            "text/plain": [
              "16"
            ]
          },
          "metadata": {},
          "execution_count": 52
        }
      ]
    },
    {
      "cell_type": "code",
      "source": [
        "chain = add_five | multiply_by_two\n",
        "chain(3)"
      ],
      "metadata": {
        "colab": {
          "base_uri": "https://localhost:8080/"
        },
        "id": "FFwjo29LWfRA",
        "outputId": "7122d42a-f54e-41af-bc52-62c3a1803a50"
      },
      "execution_count": 54,
      "outputs": [
        {
          "output_type": "execute_result",
          "data": {
            "text/plain": [
              "16"
            ]
          },
          "metadata": {},
          "execution_count": 54
        }
      ]
    },
    {
      "cell_type": "markdown",
      "source": [
        "### Runnables"
      ],
      "metadata": {
        "id": "lsNLdfL8YMVR"
      }
    },
    {
      "cell_type": "code",
      "source": [
        "!pip install langchain-chroma"
      ],
      "metadata": {
        "id": "N3G2p_M3aHrr"
      },
      "execution_count": null,
      "outputs": []
    },
    {
      "cell_type": "code",
      "source": [
        "from langchain_google_vertexai import VertexAIEmbeddings\n",
        "from langchain_chroma import Chroma\n",
        "\n",
        "embedding = VertexAIEmbeddings(model = \"textembedding-gecko\")\n",
        "\n",
        "vectorstore_A = Chroma.from_texts(\n",
        "    [\n",
        "        \"Mikhail's birthday is the 7th of March\",\n",
        "        \"Mikhail works as an AI engineer and specializes in LLMs and LLMOps\",\n",
        "    ],\n",
        "    embedding = embedding\n",
        ")\n",
        "vectorstore_B = Chroma.from_texts(\n",
        "    [\n",
        "        \"Alice has a small yorkshire shitzu mix who is 3 years old\",\n",
        "        \"Alice was born in 1996\",\n",
        "    ],\n",
        "    embedding = embedding\n",
        ")"
      ],
      "metadata": {
        "id": "KWUSluMOYZ8q"
      },
      "execution_count": 106,
      "outputs": []
    },
    {
      "cell_type": "code",
      "source": [
        "from langchain_core.runnables import RunnableParallel, RunnablePassthrough\n",
        "from langchain_core.prompts import PromptTemplate\n",
        "\n",
        "retriever_A = vectorstore_A.as_retriever()\n",
        "retriever_B = vectorstore_B.as_retriever()\n",
        "\n",
        "prompt = \"\"\"\n",
        "  Answer the question below using the context. Respond with I don't know when context does not support answering the question\n",
        "\n",
        "  Context: {context}\n",
        "\n",
        "  Question: {question}\n",
        "\n",
        "  Answer: \"\"\"\n",
        "prompt = PromptTemplate.from_template(prompt)\n",
        "\n",
        "retrieval = RunnableParallel(\n",
        "    {\"context\": retriever_A, \"question\": RunnablePassthrough()}\n",
        ")\n",
        "\n",
        "chain = retrieval | prompt | google_llm"
      ],
      "metadata": {
        "id": "jrqXgmfyavtM"
      },
      "execution_count": 107,
      "outputs": []
    },
    {
      "cell_type": "code",
      "source": [
        "out = chain.invoke(\"What does Mikhail do that Alice doesn't?\")\n",
        "print(out)"
      ],
      "metadata": {
        "colab": {
          "base_uri": "https://localhost:8080/"
        },
        "id": "X0ZTwyfKc4bZ",
        "outputId": "82126624-9462-441d-ebc9-decd568726f2"
      },
      "execution_count": 112,
      "outputs": [
        {
          "output_type": "stream",
          "name": "stdout",
          "text": [
            "I don't know. The context provided does not mention Alice or what she does. \n",
            "\n"
          ]
        }
      ]
    },
    {
      "cell_type": "code",
      "source": [
        "prompt = \"\"\"\n",
        "  Answer the question below using the context. Respond with I don't know when context does not support answering the question\n",
        "\n",
        "  Context A: {context_a}\n",
        "  Context B: {context_b}\n",
        "\n",
        "  Question: {question}\n",
        "\n",
        "  Answer: \"\"\"\n",
        "prompt = PromptTemplate.from_template(prompt)\n",
        "\n",
        "retrieval = RunnableParallel(\n",
        "    {\"context_a\": retriever_A, \"context_b\": retriever_B, \"question\": RunnablePassthrough()}\n",
        ")\n",
        "\n",
        "chain = retrieval | prompt | google_llm"
      ],
      "metadata": {
        "id": "7NrGrOw9dLBY"
      },
      "execution_count": 110,
      "outputs": []
    },
    {
      "cell_type": "code",
      "source": [
        "out = chain.invoke(\"What does Mikhail do?\")\n",
        "print(out)"
      ],
      "metadata": {
        "colab": {
          "base_uri": "https://localhost:8080/"
        },
        "id": "aogUUPeMe1lS",
        "outputId": "e8844709-b1b9-47f8-823e-684e26c179c8"
      },
      "execution_count": 113,
      "outputs": [
        {
          "output_type": "stream",
          "name": "stdout",
          "text": [
            "Mikhail works as an AI engineer and specializes in LLMs and LLMOps.\n"
          ]
        }
      ]
    }
  ]
}